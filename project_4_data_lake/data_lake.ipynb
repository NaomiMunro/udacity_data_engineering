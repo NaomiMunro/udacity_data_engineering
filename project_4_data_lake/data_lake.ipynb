{
 "cells": [
  {
   "cell_type": "code",
   "execution_count": 1,
   "id": "3f3e25d4-f74b-4c4b-89ba-eda7f636e73e",
   "metadata": {
    "execution": {
     "iopub.execute_input": "2023-01-23T12:30:23.967198Z",
     "iopub.status.busy": "2023-01-23T12:30:23.964573Z",
     "iopub.status.idle": "2023-01-23T12:31:10.278641Z",
     "shell.execute_reply": "2023-01-23T12:31:10.277145Z",
     "shell.execute_reply.started": "2023-01-23T12:30:23.967154Z"
    },
    "tags": []
   },
   "outputs": [
    {
     "data": {
      "application/vnd.jupyter.widget-view+json": {
       "model_id": "7538a3a9b4c244a88d1ccc4bd6bfbd70",
       "version_major": 2,
       "version_minor": 0
      },
      "text/plain": [
       "VBox()"
      ]
     },
     "metadata": {},
     "output_type": "display_data"
    },
    {
     "name": "stdout",
     "output_type": "stream",
     "text": [
      "Starting Spark application\n"
     ]
    },
    {
     "data": {
      "text/html": [
       "<table>\n",
       "<tr><th>ID</th><th>YARN Application ID</th><th>Kind</th><th>State</th><th>Spark UI</th><th>Driver log</th><th>Current session?</th></tr><tr><td>2</td><td>application_1674468952979_0003</td><td>pyspark</td><td>idle</td><td><a target=\"_blank\" href=\"http://ip-172-31-16-242.ec2.internal:20888/proxy/application_1674468952979_0003/\">Link</a></td><td><a target=\"_blank\" href=\"http://ip-172-31-20-95.ec2.internal:8042/node/containerlogs/container_1674468952979_0003_01_000001/livy\">Link</a></td><td>✔</td></tr></table>"
      ],
      "text/plain": [
       "<IPython.core.display.HTML object>"
      ]
     },
     "metadata": {},
     "output_type": "display_data"
    },
    {
     "data": {
      "application/vnd.jupyter.widget-view+json": {
       "model_id": "",
       "version_major": 2,
       "version_minor": 0
      },
      "text/plain": [
       "FloatProgress(value=0.0, bar_style='info', description='Progress:', layout=Layout(height='25px', width='50%'),…"
      ]
     },
     "metadata": {},
     "output_type": "display_data"
    },
    {
     "name": "stdout",
     "output_type": "stream",
     "text": [
      "SparkSession available as 'spark'.\n"
     ]
    },
    {
     "data": {
      "application/vnd.jupyter.widget-view+json": {
       "model_id": "",
       "version_major": 2,
       "version_minor": 0
      },
      "text/plain": [
       "FloatProgress(value=0.0, bar_style='info', description='Progress:', layout=Layout(height='25px', width='50%'),…"
      ]
     },
     "metadata": {},
     "output_type": "display_data"
    }
   ],
   "source": [
    "import configparser\n",
    "from datetime import datetime\n",
    "import os\n",
    "from pyspark.sql import SparkSession\n",
    "from pyspark.sql.functions import udf, col\n",
    "from pyspark.sql.functions import year, month, dayofmonth, hour, weekofyear, date_format, dayofweek, monotonically_increasing_id\n",
    "from pyspark.sql.types import TimestampType"
   ]
  },
  {
   "cell_type": "code",
   "execution_count": 2,
   "id": "54baebc9-36d5-47b3-8d5e-028b44a941ff",
   "metadata": {
    "execution": {
     "iopub.execute_input": "2023-01-23T12:31:13.983487Z",
     "iopub.status.busy": "2023-01-23T12:31:13.982609Z",
     "iopub.status.idle": "2023-01-23T12:31:15.499827Z",
     "shell.execute_reply": "2023-01-23T12:31:15.498089Z",
     "shell.execute_reply.started": "2023-01-23T12:31:13.983441Z"
    },
    "tags": []
   },
   "outputs": [
    {
     "data": {
      "application/vnd.jupyter.widget-view+json": {
       "model_id": "d5b9719e85a04cd0b47822a51cb104c3",
       "version_major": 2,
       "version_minor": 0
      },
      "text/plain": [
       "VBox()"
      ]
     },
     "metadata": {},
     "output_type": "display_data"
    },
    {
     "data": {
      "application/vnd.jupyter.widget-view+json": {
       "model_id": "",
       "version_major": 2,
       "version_minor": 0
      },
      "text/plain": [
       "FloatProgress(value=0.0, bar_style='info', description='Progress:', layout=Layout(height='25px', width='50%'),…"
      ]
     },
     "metadata": {},
     "output_type": "display_data"
    }
   ],
   "source": [
    "input_data = \"s3a://udacity-dend/\"\n",
    "output_data = \"s3a://naomi-udacity-data-lake/\"\n",
    "\n",
    "spark = SparkSession.builder.config(\"spark.jars.packages\", \"org.apache.hadoop:hadoop-aws:2.7.0\").getOrCreate()"
   ]
  },
  {
   "cell_type": "code",
   "execution_count": 3,
   "id": "088d98b2-3144-4f28-b514-bca867247075",
   "metadata": {
    "execution": {
     "iopub.execute_input": "2023-01-23T12:31:18.860933Z",
     "iopub.status.busy": "2023-01-23T12:31:18.860438Z",
     "iopub.status.idle": "2023-01-23T12:31:34.570689Z",
     "shell.execute_reply": "2023-01-23T12:31:34.569732Z",
     "shell.execute_reply.started": "2023-01-23T12:31:18.860900Z"
    },
    "tags": []
   },
   "outputs": [
    {
     "data": {
      "application/vnd.jupyter.widget-view+json": {
       "model_id": "83556672884a40da8d97cd4682498221",
       "version_major": 2,
       "version_minor": 0
      },
      "text/plain": [
       "VBox()"
      ]
     },
     "metadata": {},
     "output_type": "display_data"
    },
    {
     "data": {
      "application/vnd.jupyter.widget-view+json": {
       "model_id": "",
       "version_major": 2,
       "version_minor": 0
      },
      "text/plain": [
       "FloatProgress(value=0.0, bar_style='info', description='Progress:', layout=Layout(height='25px', width='50%'),…"
      ]
     },
     "metadata": {},
     "output_type": "display_data"
    }
   ],
   "source": [
    "# get filepath to song data file\n",
    "song_data = os.path.join(input_data, 'song_data/A/A/A/*.json')\n",
    "\n",
    "# read song data file\n",
    "df = spark.read.json(song_data)"
   ]
  },
  {
   "cell_type": "code",
   "execution_count": 5,
   "id": "3bfcd59e-3e4d-4d22-81d5-ac7f5df9432b",
   "metadata": {
    "execution": {
     "iopub.execute_input": "2023-01-23T12:32:51.930649Z",
     "iopub.status.busy": "2023-01-23T12:32:51.930344Z",
     "iopub.status.idle": "2023-01-23T12:33:03.728189Z",
     "shell.execute_reply": "2023-01-23T12:33:03.708499Z",
     "shell.execute_reply.started": "2023-01-23T12:32:51.930624Z"
    },
    "tags": []
   },
   "outputs": [
    {
     "data": {
      "application/vnd.jupyter.widget-view+json": {
       "model_id": "679e6a1d8baa4955b1772be8e3c47ead",
       "version_major": 2,
       "version_minor": 0
      },
      "text/plain": [
       "VBox()"
      ]
     },
     "metadata": {},
     "output_type": "display_data"
    },
    {
     "data": {
      "application/vnd.jupyter.widget-view+json": {
       "model_id": "",
       "version_major": 2,
       "version_minor": 0
      },
      "text/plain": [
       "FloatProgress(value=0.0, bar_style='info', description='Progress:', layout=Layout(height='25px', width='50%'),…"
      ]
     },
     "metadata": {},
     "output_type": "display_data"
    },
    {
     "name": "stdout",
     "output_type": "stream",
     "text": [
      "[Row(artist_id='ARTC1LV1187B9A4858', artist_latitude=51.4536, artist_location=\"Goldsmith's College, Lewisham, Lo\", artist_longitude=-0.01802, artist_name='The Bonzo Dog Band', duration=301.40036, num_songs=1, song_id='SOAFBCP12A8C13CC7D', title='King Of Scurf (2007 Digital Remaster)', year=1972), Row(artist_id='ARA23XO1187B9AF18F', artist_latitude=40.57885, artist_location='Carteret, New Jersey', artist_longitude=-74.21956, artist_name='The Smithereens', duration=192.522, num_songs=1, song_id='SOKTJDS12AF72A25E5', title='Drown In My Own Tears (24-Bit Digitally Remastered 04)', year=0), Row(artist_id='ARSVTNL1187B992A91', artist_latitude=51.50632, artist_location='London, England', artist_longitude=-0.12714, artist_name='Jonathan King', duration=129.85424, num_songs=1, song_id='SOEKAZG12AB018837E', title=\"I'll Slap Your Face (Entertainment USA Theme)\", year=2001)]"
     ]
    }
   ],
   "source": [
    "df.head(3)"
   ]
  },
  {
   "cell_type": "code",
   "execution_count": 6,
   "id": "1b2ca475-61b7-4497-a1a2-ea246af9f869",
   "metadata": {
    "execution": {
     "iopub.execute_input": "2023-01-23T12:33:05.567468Z",
     "iopub.status.busy": "2023-01-23T12:33:05.566848Z",
     "iopub.status.idle": "2023-01-23T12:33:05.839592Z",
     "shell.execute_reply": "2023-01-23T12:33:05.838880Z",
     "shell.execute_reply.started": "2023-01-23T12:33:05.567433Z"
    },
    "tags": []
   },
   "outputs": [
    {
     "data": {
      "application/vnd.jupyter.widget-view+json": {
       "model_id": "f1d7dc3dbc57475fbb27ff84ebf20f00",
       "version_major": 2,
       "version_minor": 0
      },
      "text/plain": [
       "VBox()"
      ]
     },
     "metadata": {},
     "output_type": "display_data"
    },
    {
     "data": {
      "application/vnd.jupyter.widget-view+json": {
       "model_id": "",
       "version_major": 2,
       "version_minor": 0
      },
      "text/plain": [
       "FloatProgress(value=0.0, bar_style='info', description='Progress:', layout=Layout(height='25px', width='50%'),…"
      ]
     },
     "metadata": {},
     "output_type": "display_data"
    }
   ],
   "source": [
    "songs_table = df.select('song_id', 'title', 'artist_id', 'year', 'duration')"
   ]
  },
  {
   "cell_type": "code",
   "execution_count": 7,
   "id": "c44a2386-64a1-472a-ae9f-fcb29064bcb1",
   "metadata": {
    "execution": {
     "iopub.execute_input": "2023-01-23T12:33:06.754726Z",
     "iopub.status.busy": "2023-01-23T12:33:06.752979Z",
     "iopub.status.idle": "2023-01-23T12:33:07.732862Z",
     "shell.execute_reply": "2023-01-23T12:33:07.731705Z",
     "shell.execute_reply.started": "2023-01-23T12:33:06.754640Z"
    },
    "tags": []
   },
   "outputs": [
    {
     "data": {
      "application/vnd.jupyter.widget-view+json": {
       "model_id": "f74d49e729a842e2a2366c6a7817f620",
       "version_major": 2,
       "version_minor": 0
      },
      "text/plain": [
       "VBox()"
      ]
     },
     "metadata": {},
     "output_type": "display_data"
    },
    {
     "data": {
      "application/vnd.jupyter.widget-view+json": {
       "model_id": "",
       "version_major": 2,
       "version_minor": 0
      },
      "text/plain": [
       "FloatProgress(value=0.0, bar_style='info', description='Progress:', layout=Layout(height='25px', width='50%'),…"
      ]
     },
     "metadata": {},
     "output_type": "display_data"
    },
    {
     "name": "stdout",
     "output_type": "stream",
     "text": [
      "[Row(song_id='SOAFBCP12A8C13CC7D', title='King Of Scurf (2007 Digital Remaster)', artist_id='ARTC1LV1187B9A4858', year=1972, duration=301.40036), Row(song_id='SOKTJDS12AF72A25E5', title='Drown In My Own Tears (24-Bit Digitally Remastered 04)', artist_id='ARA23XO1187B9AF18F', year=0, duration=192.522), Row(song_id='SOEKAZG12AB018837E', title=\"I'll Slap Your Face (Entertainment USA Theme)\", artist_id='ARSVTNL1187B992A91', year=2001, duration=129.85424)]"
     ]
    }
   ],
   "source": [
    "songs_table.head(3)"
   ]
  },
  {
   "cell_type": "code",
   "execution_count": 8,
   "id": "76d8b2aa-5b92-492e-a08e-6ba66ac0d31f",
   "metadata": {
    "execution": {
     "iopub.execute_input": "2023-01-23T12:33:12.159637Z",
     "iopub.status.busy": "2023-01-23T12:33:12.159279Z",
     "iopub.status.idle": "2023-01-23T12:33:52.225295Z",
     "shell.execute_reply": "2023-01-23T12:33:52.224406Z",
     "shell.execute_reply.started": "2023-01-23T12:33:12.159607Z"
    },
    "tags": []
   },
   "outputs": [
    {
     "data": {
      "application/vnd.jupyter.widget-view+json": {
       "model_id": "b4710ebcc82e49cfa870441e18cc3ca6",
       "version_major": 2,
       "version_minor": 0
      },
      "text/plain": [
       "VBox()"
      ]
     },
     "metadata": {},
     "output_type": "display_data"
    },
    {
     "data": {
      "application/vnd.jupyter.widget-view+json": {
       "model_id": "",
       "version_major": 2,
       "version_minor": 0
      },
      "text/plain": [
       "FloatProgress(value=0.0, bar_style='info', description='Progress:', layout=Layout(height='25px', width='50%'),…"
      ]
     },
     "metadata": {},
     "output_type": "display_data"
    }
   ],
   "source": [
    "songs_table.write.partitionBy('year','artist_id').mode('overwrite').\\\n",
    "        parquet(output_data + 'songs_table.parquet')"
   ]
  },
  {
   "cell_type": "code",
   "execution_count": 9,
   "id": "791b9511-72a8-45af-9b54-770600db49e8",
   "metadata": {
    "execution": {
     "iopub.execute_input": "2023-01-23T12:33:55.285321Z",
     "iopub.status.busy": "2023-01-23T12:33:55.285016Z",
     "iopub.status.idle": "2023-01-23T12:33:55.453170Z",
     "shell.execute_reply": "2023-01-23T12:33:55.452360Z",
     "shell.execute_reply.started": "2023-01-23T12:33:55.285295Z"
    },
    "tags": []
   },
   "outputs": [
    {
     "data": {
      "application/vnd.jupyter.widget-view+json": {
       "model_id": "557ed92e878e458abd435b9ca1922f3d",
       "version_major": 2,
       "version_minor": 0
      },
      "text/plain": [
       "VBox()"
      ]
     },
     "metadata": {},
     "output_type": "display_data"
    },
    {
     "data": {
      "application/vnd.jupyter.widget-view+json": {
       "model_id": "",
       "version_major": 2,
       "version_minor": 0
      },
      "text/plain": [
       "FloatProgress(value=0.0, bar_style='info', description='Progress:', layout=Layout(height='25px', width='50%'),…"
      ]
     },
     "metadata": {},
     "output_type": "display_data"
    }
   ],
   "source": [
    "# extract columns to create artists table\n",
    "artists_table = df.select('artist_id', 'artist_name', 'artist_location', 'artist_latitude', 'artist_longitude')"
   ]
  },
  {
   "cell_type": "code",
   "execution_count": 10,
   "id": "a33d099c-0d48-4e41-a204-82cce874e3a4",
   "metadata": {
    "execution": {
     "iopub.execute_input": "2023-01-23T12:34:01.147764Z",
     "iopub.status.busy": "2023-01-23T12:34:01.147291Z",
     "iopub.status.idle": "2023-01-23T12:34:02.952663Z",
     "shell.execute_reply": "2023-01-23T12:34:02.949419Z",
     "shell.execute_reply.started": "2023-01-23T12:34:01.147723Z"
    },
    "tags": []
   },
   "outputs": [
    {
     "data": {
      "application/vnd.jupyter.widget-view+json": {
       "model_id": "c8d0d8b6e60a481e846e1f2d40412176",
       "version_major": 2,
       "version_minor": 0
      },
      "text/plain": [
       "VBox()"
      ]
     },
     "metadata": {},
     "output_type": "display_data"
    },
    {
     "data": {
      "application/vnd.jupyter.widget-view+json": {
       "model_id": "",
       "version_major": 2,
       "version_minor": 0
      },
      "text/plain": [
       "FloatProgress(value=0.0, bar_style='info', description='Progress:', layout=Layout(height='25px', width='50%'),…"
      ]
     },
     "metadata": {},
     "output_type": "display_data"
    },
    {
     "name": "stdout",
     "output_type": "stream",
     "text": [
      "[Row(artist_id='ARTC1LV1187B9A4858', artist_name='The Bonzo Dog Band', artist_location=\"Goldsmith's College, Lewisham, Lo\", artist_latitude=51.4536, artist_longitude=-0.01802), Row(artist_id='ARA23XO1187B9AF18F', artist_name='The Smithereens', artist_location='Carteret, New Jersey', artist_latitude=40.57885, artist_longitude=-74.21956), Row(artist_id='ARSVTNL1187B992A91', artist_name='Jonathan King', artist_location='London, England', artist_latitude=51.50632, artist_longitude=-0.12714)]"
     ]
    }
   ],
   "source": [
    "artists_table.head(3)"
   ]
  },
  {
   "cell_type": "code",
   "execution_count": 11,
   "id": "c1801f06-b385-4649-994d-968d5f087c49",
   "metadata": {
    "execution": {
     "iopub.execute_input": "2023-01-23T12:34:16.557519Z",
     "iopub.status.busy": "2023-01-23T12:34:16.557094Z",
     "iopub.status.idle": "2023-01-23T12:34:22.302162Z",
     "shell.execute_reply": "2023-01-23T12:34:22.300876Z",
     "shell.execute_reply.started": "2023-01-23T12:34:16.557484Z"
    },
    "tags": []
   },
   "outputs": [
    {
     "data": {
      "application/vnd.jupyter.widget-view+json": {
       "model_id": "7421e589d259421db27c9a119ab0d957",
       "version_major": 2,
       "version_minor": 0
      },
      "text/plain": [
       "VBox()"
      ]
     },
     "metadata": {},
     "output_type": "display_data"
    },
    {
     "data": {
      "application/vnd.jupyter.widget-view+json": {
       "model_id": "",
       "version_major": 2,
       "version_minor": 0
      },
      "text/plain": [
       "FloatProgress(value=0.0, bar_style='info', description='Progress:', layout=Layout(height='25px', width='50%'),…"
      ]
     },
     "metadata": {},
     "output_type": "display_data"
    }
   ],
   "source": [
    "# write artists table to parquet files\n",
    "artists_table.write.mode('overwrite').parquet(output_data + 'artists_table.parquet')"
   ]
  },
  {
   "cell_type": "code",
   "execution_count": 12,
   "id": "fd5f0a36-b732-401a-8808-50a291297ba5",
   "metadata": {
    "execution": {
     "iopub.execute_input": "2023-01-23T12:34:24.076040Z",
     "iopub.status.busy": "2023-01-23T12:34:24.075693Z",
     "iopub.status.idle": "2023-01-23T12:34:31.693258Z",
     "shell.execute_reply": "2023-01-23T12:34:31.691739Z",
     "shell.execute_reply.started": "2023-01-23T12:34:24.076009Z"
    },
    "tags": []
   },
   "outputs": [
    {
     "data": {
      "application/vnd.jupyter.widget-view+json": {
       "model_id": "bdc1d31f782744b0afcd48fadb9e8e17",
       "version_major": 2,
       "version_minor": 0
      },
      "text/plain": [
       "VBox()"
      ]
     },
     "metadata": {},
     "output_type": "display_data"
    },
    {
     "data": {
      "application/vnd.jupyter.widget-view+json": {
       "model_id": "",
       "version_major": 2,
       "version_minor": 0
      },
      "text/plain": [
       "FloatProgress(value=0.0, bar_style='info', description='Progress:', layout=Layout(height='25px', width='50%'),…"
      ]
     },
     "metadata": {},
     "output_type": "display_data"
    }
   ],
   "source": [
    "# get filepath to log data file\n",
    "log_data = os.path.join(input_data, 'log_data/2018/11/*.json')\n",
    "\n",
    "# read log data file\n",
    "df = spark.read.json(log_data)"
   ]
  },
  {
   "cell_type": "code",
   "execution_count": 13,
   "id": "4c45d922-c1fd-4aa6-8fd6-a9b7f6878189",
   "metadata": {
    "execution": {
     "iopub.execute_input": "2023-01-23T12:34:34.826332Z",
     "iopub.status.busy": "2023-01-23T12:34:34.825943Z",
     "iopub.status.idle": "2023-01-23T12:34:35.911280Z",
     "shell.execute_reply": "2023-01-23T12:34:35.910052Z",
     "shell.execute_reply.started": "2023-01-23T12:34:34.826231Z"
    },
    "tags": []
   },
   "outputs": [
    {
     "data": {
      "application/vnd.jupyter.widget-view+json": {
       "model_id": "6d942d54a927405b8e77203fe909a3a0",
       "version_major": 2,
       "version_minor": 0
      },
      "text/plain": [
       "VBox()"
      ]
     },
     "metadata": {},
     "output_type": "display_data"
    },
    {
     "data": {
      "application/vnd.jupyter.widget-view+json": {
       "model_id": "",
       "version_major": 2,
       "version_minor": 0
      },
      "text/plain": [
       "FloatProgress(value=0.0, bar_style='info', description='Progress:', layout=Layout(height='25px', width='50%'),…"
      ]
     },
     "metadata": {},
     "output_type": "display_data"
    },
    {
     "name": "stdout",
     "output_type": "stream",
     "text": [
      "[Row(artist='Harmonia', auth='Logged In', firstName='Ryan', gender='M', itemInSession=0, lastName='Smith', length=655.77751, level='free', location='San Jose-Sunnyvale-Santa Clara, CA', method='PUT', page='NextSong', registration=1541016707796.0, sessionId=583, song='Sehr kosmisch', status=200, ts=1542241826796, userAgent='\"Mozilla/5.0 (X11; Linux x86_64) AppleWebKit/537.36 (KHTML, like Gecko) Ubuntu Chromium/36.0.1985.125 Chrome/36.0.1985.125 Safari/537.36\"', userId='26'), Row(artist='The Prodigy', auth='Logged In', firstName='Ryan', gender='M', itemInSession=1, lastName='Smith', length=260.07465, level='free', location='San Jose-Sunnyvale-Santa Clara, CA', method='PUT', page='NextSong', registration=1541016707796.0, sessionId=583, song='The Big Gundown', status=200, ts=1542242481796, userAgent='\"Mozilla/5.0 (X11; Linux x86_64) AppleWebKit/537.36 (KHTML, like Gecko) Ubuntu Chromium/36.0.1985.125 Chrome/36.0.1985.125 Safari/537.36\"', userId='26'), Row(artist='Train', auth='Logged In', firstName='Ryan', gender='M', itemInSession=2, lastName='Smith', length=205.45261, level='free', location='San Jose-Sunnyvale-Santa Clara, CA', method='PUT', page='NextSong', registration=1541016707796.0, sessionId=583, song='Marry Me', status=200, ts=1542242741796, userAgent='\"Mozilla/5.0 (X11; Linux x86_64) AppleWebKit/537.36 (KHTML, like Gecko) Ubuntu Chromium/36.0.1985.125 Chrome/36.0.1985.125 Safari/537.36\"', userId='26')]"
     ]
    }
   ],
   "source": [
    "# filter by actions for song plays\n",
    "df = df.where(df.page == 'NextSong')\n",
    "df.head(3)"
   ]
  },
  {
   "cell_type": "code",
   "execution_count": 14,
   "id": "8ebf8263-a6bf-49d4-81c6-9846c94072e9",
   "metadata": {
    "execution": {
     "iopub.execute_input": "2023-01-23T12:34:44.019715Z",
     "iopub.status.busy": "2023-01-23T12:34:44.019101Z",
     "iopub.status.idle": "2023-01-23T12:34:47.681979Z",
     "shell.execute_reply": "2023-01-23T12:34:47.680991Z",
     "shell.execute_reply.started": "2023-01-23T12:34:44.019666Z"
    },
    "tags": []
   },
   "outputs": [
    {
     "data": {
      "application/vnd.jupyter.widget-view+json": {
       "model_id": "ede27ea464f34d1b879374d96443ab33",
       "version_major": 2,
       "version_minor": 0
      },
      "text/plain": [
       "VBox()"
      ]
     },
     "metadata": {},
     "output_type": "display_data"
    },
    {
     "data": {
      "application/vnd.jupyter.widget-view+json": {
       "model_id": "",
       "version_major": 2,
       "version_minor": 0
      },
      "text/plain": [
       "FloatProgress(value=0.0, bar_style='info', description='Progress:', layout=Layout(height='25px', width='50%'),…"
      ]
     },
     "metadata": {},
     "output_type": "display_data"
    },
    {
     "name": "stdout",
     "output_type": "stream",
     "text": [
      "[Row(user_id='26', first_name='Ryan', last_name='Smith', gender='M', level='free')]"
     ]
    }
   ],
   "source": [
    "# extract columns for users table\n",
    "users_table = df.select(df.userId.alias('user_id'), df.firstName.alias('first_name'), df.lastName.alias('last_name'), 'gender', 'level').distinct()\n",
    "users_table.head(1)"
   ]
  },
  {
   "cell_type": "code",
   "execution_count": 15,
   "id": "1069108c-f978-4b4c-87f7-911bcc727022",
   "metadata": {
    "execution": {
     "iopub.execute_input": "2023-01-23T12:34:49.306650Z",
     "iopub.status.busy": "2023-01-23T12:34:49.301955Z",
     "iopub.status.idle": "2023-01-23T12:35:58.283121Z",
     "shell.execute_reply": "2023-01-23T12:35:58.280798Z",
     "shell.execute_reply.started": "2023-01-23T12:34:49.306605Z"
    },
    "tags": []
   },
   "outputs": [
    {
     "data": {
      "application/vnd.jupyter.widget-view+json": {
       "model_id": "73731ff0925f42019d754743e357b5e9",
       "version_major": 2,
       "version_minor": 0
      },
      "text/plain": [
       "VBox()"
      ]
     },
     "metadata": {},
     "output_type": "display_data"
    },
    {
     "data": {
      "application/vnd.jupyter.widget-view+json": {
       "model_id": "",
       "version_major": 2,
       "version_minor": 0
      },
      "text/plain": [
       "FloatProgress(value=0.0, bar_style='info', description='Progress:', layout=Layout(height='25px', width='50%'),…"
      ]
     },
     "metadata": {},
     "output_type": "display_data"
    }
   ],
   "source": [
    "# write users table to parquet files\n",
    "users_table.write.mode('overwrite').parquet(os.path.join(output_data + 'users_table.parquet'))"
   ]
  },
  {
   "cell_type": "code",
   "execution_count": 16,
   "id": "d4f0128a-6db9-4468-8939-903e88e515f0",
   "metadata": {
    "execution": {
     "iopub.execute_input": "2023-01-23T12:36:07.571293Z",
     "iopub.status.busy": "2023-01-23T12:36:07.570849Z",
     "iopub.status.idle": "2023-01-23T12:36:07.980524Z",
     "shell.execute_reply": "2023-01-23T12:36:07.979733Z",
     "shell.execute_reply.started": "2023-01-23T12:36:07.571146Z"
    },
    "tags": []
   },
   "outputs": [
    {
     "data": {
      "application/vnd.jupyter.widget-view+json": {
       "model_id": "49088f7a42004c5b864ecd5cd948799c",
       "version_major": 2,
       "version_minor": 0
      },
      "text/plain": [
       "VBox()"
      ]
     },
     "metadata": {},
     "output_type": "display_data"
    },
    {
     "data": {
      "application/vnd.jupyter.widget-view+json": {
       "model_id": "",
       "version_major": 2,
       "version_minor": 0
      },
      "text/plain": [
       "FloatProgress(value=0.0, bar_style='info', description='Progress:', layout=Layout(height='25px', width='50%'),…"
      ]
     },
     "metadata": {},
     "output_type": "display_data"
    },
    {
     "name": "stdout",
     "output_type": "stream",
     "text": [
      "root\n",
      " |-- artist: string (nullable = true)\n",
      " |-- auth: string (nullable = true)\n",
      " |-- firstName: string (nullable = true)\n",
      " |-- gender: string (nullable = true)\n",
      " |-- itemInSession: long (nullable = true)\n",
      " |-- lastName: string (nullable = true)\n",
      " |-- length: double (nullable = true)\n",
      " |-- level: string (nullable = true)\n",
      " |-- location: string (nullable = true)\n",
      " |-- method: string (nullable = true)\n",
      " |-- page: string (nullable = true)\n",
      " |-- registration: double (nullable = true)\n",
      " |-- sessionId: long (nullable = true)\n",
      " |-- song: string (nullable = true)\n",
      " |-- status: long (nullable = true)\n",
      " |-- ts: long (nullable = true)\n",
      " |-- userAgent: string (nullable = true)\n",
      " |-- userId: string (nullable = true)\n",
      " |-- start_time: timestamp (nullable = true)"
     ]
    }
   ],
   "source": [
    "# create timestamp column from original timestamp column\n",
    "get_timestamp = udf(lambda x: datetime.fromtimestamp(x / 1000), TimestampType())\n",
    "df = df.withColumn(\"start_time\", get_timestamp('ts'))\n",
    "\n",
    "df.printSchema()"
   ]
  },
  {
   "cell_type": "code",
   "execution_count": 17,
   "id": "97d7bfed-2181-4290-b2f3-aa5757364897",
   "metadata": {
    "execution": {
     "iopub.execute_input": "2023-01-23T12:36:13.359988Z",
     "iopub.status.busy": "2023-01-23T12:36:13.359662Z",
     "iopub.status.idle": "2023-01-23T12:36:33.186828Z",
     "shell.execute_reply": "2023-01-23T12:36:33.185503Z",
     "shell.execute_reply.started": "2023-01-23T12:36:13.359960Z"
    },
    "tags": []
   },
   "outputs": [
    {
     "data": {
      "application/vnd.jupyter.widget-view+json": {
       "model_id": "0daf79df094a490295ee4e38cc10d41f",
       "version_major": 2,
       "version_minor": 0
      },
      "text/plain": [
       "VBox()"
      ]
     },
     "metadata": {},
     "output_type": "display_data"
    },
    {
     "data": {
      "application/vnd.jupyter.widget-view+json": {
       "model_id": "",
       "version_major": 2,
       "version_minor": 0
      },
      "text/plain": [
       "FloatProgress(value=0.0, bar_style='info', description='Progress:', layout=Layout(height='25px', width='50%'),…"
      ]
     },
     "metadata": {},
     "output_type": "display_data"
    },
    {
     "name": "stdout",
     "output_type": "stream",
     "text": [
      "[Row(artist='Harmonia', auth='Logged In', firstName='Ryan', gender='M', itemInSession=0, lastName='Smith', length=655.77751, level='free', location='San Jose-Sunnyvale-Santa Clara, CA', method='PUT', page='NextSong', registration=1541016707796.0, sessionId=583, song='Sehr kosmisch', status=200, ts=1542241826796, userAgent='\"Mozilla/5.0 (X11; Linux x86_64) AppleWebKit/537.36 (KHTML, like Gecko) Ubuntu Chromium/36.0.1985.125 Chrome/36.0.1985.125 Safari/537.36\"', userId='26', start_time=datetime.datetime(2018, 11, 15, 0, 30, 26, 796000))]"
     ]
    }
   ],
   "source": [
    "df.head(1)"
   ]
  },
  {
   "cell_type": "code",
   "execution_count": 18,
   "id": "5f44a41b-849f-417c-8767-c3c44b02d3c9",
   "metadata": {
    "execution": {
     "iopub.execute_input": "2023-01-23T12:36:35.446596Z",
     "iopub.status.busy": "2023-01-23T12:36:35.442492Z",
     "iopub.status.idle": "2023-01-23T12:36:41.296902Z",
     "shell.execute_reply": "2023-01-23T12:36:41.295495Z",
     "shell.execute_reply.started": "2023-01-23T12:36:35.446313Z"
    },
    "tags": []
   },
   "outputs": [
    {
     "data": {
      "application/vnd.jupyter.widget-view+json": {
       "model_id": "8113d2c6f00246809ff6ed0f97f575e0",
       "version_major": 2,
       "version_minor": 0
      },
      "text/plain": [
       "VBox()"
      ]
     },
     "metadata": {},
     "output_type": "display_data"
    },
    {
     "data": {
      "application/vnd.jupyter.widget-view+json": {
       "model_id": "",
       "version_major": 2,
       "version_minor": 0
      },
      "text/plain": [
       "FloatProgress(value=0.0, bar_style='info', description='Progress:', layout=Layout(height='25px', width='50%'),…"
      ]
     },
     "metadata": {},
     "output_type": "display_data"
    },
    {
     "name": "stdout",
     "output_type": "stream",
     "text": [
      "[Row(start_time=datetime.datetime(2018, 11, 15, 14, 9, 23, 796000), weekday=5, year=2018, month=11, week=46, day=15, hour=14)]"
     ]
    }
   ],
   "source": [
    "df = df.withColumn('hour', hour('start_time')) \\\n",
    "    .withColumn('day', dayofmonth('start_time')) \\\n",
    "    .withColumn('week', weekofyear('start_time')) \\\n",
    "    .withColumn('month', month('start_time')) \\\n",
    "    .withColumn('year', year('start_time')) \\\n",
    "    .withColumn('weekday', dayofweek('start_time')) \n",
    "time_table = df.select('start_time', 'weekday', 'year', 'month', 'week', 'day', 'hour').distinct()\n",
    "time_table.head(1)"
   ]
  },
  {
   "cell_type": "code",
   "execution_count": 19,
   "id": "88567c55-a58e-4f4b-84f2-91152c96bbbf",
   "metadata": {
    "execution": {
     "iopub.execute_input": "2023-01-23T12:36:45.651339Z",
     "iopub.status.busy": "2023-01-23T12:36:45.651014Z",
     "iopub.status.idle": "2023-01-23T12:39:59.854013Z",
     "shell.execute_reply": "2023-01-23T12:39:59.852454Z",
     "shell.execute_reply.started": "2023-01-23T12:36:45.651313Z"
    },
    "tags": []
   },
   "outputs": [
    {
     "data": {
      "application/vnd.jupyter.widget-view+json": {
       "model_id": "e79a1905ec7a42abbceb7cbfbb9ccfa4",
       "version_major": 2,
       "version_minor": 0
      },
      "text/plain": [
       "VBox()"
      ]
     },
     "metadata": {},
     "output_type": "display_data"
    },
    {
     "data": {
      "application/vnd.jupyter.widget-view+json": {
       "model_id": "",
       "version_major": 2,
       "version_minor": 0
      },
      "text/plain": [
       "FloatProgress(value=0.0, bar_style='info', description='Progress:', layout=Layout(height='25px', width='50%'),…"
      ]
     },
     "metadata": {},
     "output_type": "display_data"
    }
   ],
   "source": [
    "# write time table to parquet files partitioned by year and month\n",
    "time_table.write.partitionBy('year','month').mode('overwrite').\\\n",
    "    parquet(os.path.join(output_data, 'time_table.parquet'))"
   ]
  },
  {
   "cell_type": "code",
   "execution_count": 20,
   "id": "bb49ae0b-a7ad-40eb-a9e7-a463cd1a6034",
   "metadata": {
    "execution": {
     "iopub.execute_input": "2023-01-23T12:40:05.623371Z",
     "iopub.status.busy": "2023-01-23T12:40:05.622954Z",
     "iopub.status.idle": "2023-01-23T12:40:19.667596Z",
     "shell.execute_reply": "2023-01-23T12:40:19.666618Z",
     "shell.execute_reply.started": "2023-01-23T12:40:05.623335Z"
    },
    "tags": []
   },
   "outputs": [
    {
     "data": {
      "application/vnd.jupyter.widget-view+json": {
       "model_id": "aa63f729615c4a389189eeba9b0419d3",
       "version_major": 2,
       "version_minor": 0
      },
      "text/plain": [
       "VBox()"
      ]
     },
     "metadata": {},
     "output_type": "display_data"
    },
    {
     "data": {
      "application/vnd.jupyter.widget-view+json": {
       "model_id": "",
       "version_major": 2,
       "version_minor": 0
      },
      "text/plain": [
       "FloatProgress(value=0.0, bar_style='info', description='Progress:', layout=Layout(height='25px', width='50%'),…"
      ]
     },
     "metadata": {},
     "output_type": "display_data"
    }
   ],
   "source": [
    "# read in song data to use for songplays table\n",
    "song_df = spark.read.parquet(os.path.join(output_data, 'songs_table.parquet'))\n",
    "artist_df = spark.read.parquet(os.path.join(output_data, 'artists_table.parquet'))"
   ]
  },
  {
   "cell_type": "code",
   "execution_count": 21,
   "id": "43b41659-69f4-437c-a464-8bd323a5416e",
   "metadata": {
    "execution": {
     "iopub.execute_input": "2023-01-23T12:40:21.506694Z",
     "iopub.status.busy": "2023-01-23T12:40:21.506354Z",
     "iopub.status.idle": "2023-01-23T12:40:24.122283Z",
     "shell.execute_reply": "2023-01-23T12:40:24.063744Z",
     "shell.execute_reply.started": "2023-01-23T12:40:21.506664Z"
    },
    "tags": []
   },
   "outputs": [
    {
     "data": {
      "application/vnd.jupyter.widget-view+json": {
       "model_id": "dd3afd0524974850a5cab29f329c5754",
       "version_major": 2,
       "version_minor": 0
      },
      "text/plain": [
       "VBox()"
      ]
     },
     "metadata": {},
     "output_type": "display_data"
    },
    {
     "data": {
      "application/vnd.jupyter.widget-view+json": {
       "model_id": "",
       "version_major": 2,
       "version_minor": 0
      },
      "text/plain": [
       "FloatProgress(value=0.0, bar_style='info', description='Progress:', layout=Layout(height='25px', width='50%'),…"
      ]
     },
     "metadata": {},
     "output_type": "display_data"
    },
    {
     "name": "stdout",
     "output_type": "stream",
     "text": [
      "[Row(song_id='SOKTJDS12AF72A25E5', title='Drown In My Own Tears (24-Bit Digitally Remastered 04)', duration=192.522, year=0, artist_id='ARA23XO1187B9AF18F')]"
     ]
    }
   ],
   "source": [
    "song_df.head(1)"
   ]
  },
  {
   "cell_type": "code",
   "execution_count": 22,
   "id": "7856c8e0-2a54-460f-b51f-63b78bcd3096",
   "metadata": {
    "execution": {
     "iopub.execute_input": "2023-01-23T12:40:32.688046Z",
     "iopub.status.busy": "2023-01-23T12:40:32.687648Z",
     "iopub.status.idle": "2023-01-23T12:40:33.672379Z",
     "shell.execute_reply": "2023-01-23T12:40:33.671279Z",
     "shell.execute_reply.started": "2023-01-23T12:40:32.687984Z"
    },
    "tags": []
   },
   "outputs": [
    {
     "data": {
      "application/vnd.jupyter.widget-view+json": {
       "model_id": "c06f1947834e4622ae402a8958ddd65f",
       "version_major": 2,
       "version_minor": 0
      },
      "text/plain": [
       "VBox()"
      ]
     },
     "metadata": {},
     "output_type": "display_data"
    },
    {
     "data": {
      "application/vnd.jupyter.widget-view+json": {
       "model_id": "",
       "version_major": 2,
       "version_minor": 0
      },
      "text/plain": [
       "FloatProgress(value=0.0, bar_style='info', description='Progress:', layout=Layout(height='25px', width='50%'),…"
      ]
     },
     "metadata": {},
     "output_type": "display_data"
    },
    {
     "name": "stdout",
     "output_type": "stream",
     "text": [
      "[Row(artist_id='ARTC1LV1187B9A4858', artist_name='The Bonzo Dog Band', artist_location=\"Goldsmith's College, Lewisham, Lo\", artist_latitude=51.4536, artist_longitude=-0.01802)]"
     ]
    }
   ],
   "source": [
    "artist_df.head(1)"
   ]
  },
  {
   "cell_type": "code",
   "execution_count": 23,
   "id": "238d0c5a-0dfa-4974-b5b9-f6ac6f2597f3",
   "metadata": {
    "execution": {
     "iopub.execute_input": "2023-01-23T12:40:40.607601Z",
     "iopub.status.busy": "2023-01-23T12:40:40.607283Z",
     "iopub.status.idle": "2023-01-23T12:40:40.786623Z",
     "shell.execute_reply": "2023-01-23T12:40:40.785716Z",
     "shell.execute_reply.started": "2023-01-23T12:40:40.607574Z"
    },
    "tags": []
   },
   "outputs": [
    {
     "data": {
      "application/vnd.jupyter.widget-view+json": {
       "model_id": "84f1a963109f4768bc906ec770e79198",
       "version_major": 2,
       "version_minor": 0
      },
      "text/plain": [
       "VBox()"
      ]
     },
     "metadata": {},
     "output_type": "display_data"
    },
    {
     "data": {
      "application/vnd.jupyter.widget-view+json": {
       "model_id": "",
       "version_major": 2,
       "version_minor": 0
      },
      "text/plain": [
       "FloatProgress(value=0.0, bar_style='info', description='Progress:', layout=Layout(height='25px', width='50%'),…"
      ]
     },
     "metadata": {},
     "output_type": "display_data"
    },
    {
     "name": "stdout",
     "output_type": "stream",
     "text": [
      "root\n",
      " |-- artist: string (nullable = true)\n",
      " |-- auth: string (nullable = true)\n",
      " |-- firstName: string (nullable = true)\n",
      " |-- gender: string (nullable = true)\n",
      " |-- itemInSession: long (nullable = true)\n",
      " |-- lastName: string (nullable = true)\n",
      " |-- length: double (nullable = true)\n",
      " |-- level: string (nullable = true)\n",
      " |-- location: string (nullable = true)\n",
      " |-- method: string (nullable = true)\n",
      " |-- page: string (nullable = true)\n",
      " |-- registration: double (nullable = true)\n",
      " |-- sessionId: long (nullable = true)\n",
      " |-- song: string (nullable = true)\n",
      " |-- status: long (nullable = true)\n",
      " |-- ts: long (nullable = true)\n",
      " |-- userAgent: string (nullable = true)\n",
      " |-- userId: string (nullable = true)\n",
      " |-- start_time: timestamp (nullable = true)\n",
      " |-- hour: integer (nullable = true)\n",
      " |-- day: integer (nullable = true)\n",
      " |-- week: integer (nullable = true)\n",
      " |-- month: integer (nullable = true)\n",
      " |-- year: integer (nullable = true)\n",
      " |-- weekday: integer (nullable = true)"
     ]
    }
   ],
   "source": [
    "df.printSchema()"
   ]
  },
  {
   "cell_type": "code",
   "execution_count": 25,
   "id": "fc209d27-c586-4541-b77a-f56fd8e9483b",
   "metadata": {
    "execution": {
     "iopub.execute_input": "2023-01-23T12:41:19.949598Z",
     "iopub.status.busy": "2023-01-23T12:41:19.947615Z",
     "iopub.status.idle": "2023-01-23T12:41:20.351057Z",
     "shell.execute_reply": "2023-01-23T12:41:20.345569Z",
     "shell.execute_reply.started": "2023-01-23T12:41:19.949553Z"
    },
    "tags": []
   },
   "outputs": [
    {
     "data": {
      "application/vnd.jupyter.widget-view+json": {
       "model_id": "5b03e71d019c461b9977cb9f039abee8",
       "version_major": 2,
       "version_minor": 0
      },
      "text/plain": [
       "VBox()"
      ]
     },
     "metadata": {},
     "output_type": "display_data"
    },
    {
     "data": {
      "application/vnd.jupyter.widget-view+json": {
       "model_id": "",
       "version_major": 2,
       "version_minor": 0
      },
      "text/plain": [
       "FloatProgress(value=0.0, bar_style='info', description='Progress:', layout=Layout(height='25px', width='50%'),…"
      ]
     },
     "metadata": {},
     "output_type": "display_data"
    },
    {
     "name": "stdout",
     "output_type": "stream",
     "text": [
      "root\n",
      " |-- start_time: timestamp (nullable = true)\n",
      " |-- user_id: string (nullable = true)\n",
      " |-- level: string (nullable = true)\n",
      " |-- song_id: string (nullable = true)\n",
      " |-- artist_id: string (nullable = true)\n",
      " |-- session_id: long (nullable = true)\n",
      " |-- location: string (nullable = true)\n",
      " |-- user_agent: string (nullable = true)\n",
      " |-- year: integer (nullable = true)\n",
      " |-- month: integer (nullable = true)\n",
      " |-- songplay_id: long (nullable = false)"
     ]
    }
   ],
   "source": [
    "# extract columns from joined song and log datasets to create songplays table \n",
    "#songplays_table = df.join(song_df,\n",
    "#                          on=[\n",
    "#                              df.artist == song_df.artistName,\n",
    "#                              df.song == song_df.title,\n",
    "#                              df.length == song_df.duration\n",
    "#                          ],\n",
    "#                          how='inner')\n",
    "songplays_table = df.join(song_df,\n",
    "                          on=[df.song == song_df.title,\n",
    "                              df.length == song_df.duration],\n",
    "                          how='inner') \\\n",
    "                    .join(artist_df,\n",
    "                          on=[df.artist == artist_df.artist_name,\n",
    "                              song_df.artist_id == artist_df.artist_id],\n",
    "                          how='inner') \\\n",
    "                    .drop(song_df.artist_id) \\\n",
    "                    .drop(song_df.year) \\\n",
    "                    .select('start_time', df.userId.alias('user_id'), 'level', 'song_id',\n",
    "                            'artist_id', df.sessionId.alias('session_id'), 'location',\n",
    "                            df.userAgent.alias('user_agent'), df.year, df.month) \\\n",
    "                    .withColumn(\"songplay_id\", monotonically_increasing_id())\n",
    "\n",
    "songplays_table.printSchema()"
   ]
  },
  {
   "cell_type": "code",
   "execution_count": 26,
   "id": "d613cee6-cc6c-4217-898d-9db779979c12",
   "metadata": {
    "execution": {
     "iopub.execute_input": "2023-01-23T12:41:23.938102Z",
     "iopub.status.busy": "2023-01-23T12:41:23.937739Z",
     "iopub.status.idle": "2023-01-23T12:41:37.794567Z",
     "shell.execute_reply": "2023-01-23T12:41:37.793101Z",
     "shell.execute_reply.started": "2023-01-23T12:41:23.938072Z"
    }
   },
   "outputs": [
    {
     "data": {
      "application/vnd.jupyter.widget-view+json": {
       "model_id": "1931da5a11c644e7a8127a935187092a",
       "version_major": 2,
       "version_minor": 0
      },
      "text/plain": [
       "VBox()"
      ]
     },
     "metadata": {},
     "output_type": "display_data"
    },
    {
     "data": {
      "application/vnd.jupyter.widget-view+json": {
       "model_id": "",
       "version_major": 2,
       "version_minor": 0
      },
      "text/plain": [
       "FloatProgress(value=0.0, bar_style='info', description='Progress:', layout=Layout(height='25px', width='50%'),…"
      ]
     },
     "metadata": {},
     "output_type": "display_data"
    }
   ],
   "source": [
    "# write songplays table to parquet files partitioned by year and month\n",
    "songplays_table.write.partitionBy('year','month').mode('overwrite').\\\n",
    "    parquet(os.path.join(output_data, 'songplays_table.parquet'))"
   ]
  },
  {
   "cell_type": "code",
   "execution_count": null,
   "id": "cc43fd25-2f63-43be-9db0-4270cdd13786",
   "metadata": {},
   "outputs": [],
   "source": []
  }
 ],
 "metadata": {
  "kernelspec": {
   "display_name": "PySpark",
   "language": "",
   "name": "pysparkkernel"
  },
  "language_info": {
   "codemirror_mode": {
    "name": "python",
    "version": 2
   },
   "mimetype": "text/x-python",
   "name": "pyspark",
   "pygments_lexer": "python2"
  }
 },
 "nbformat": 4,
 "nbformat_minor": 5
}
